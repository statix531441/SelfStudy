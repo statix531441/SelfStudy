{
 "cells": [
  {
   "cell_type": "code",
   "execution_count": null,
   "id": "c77633f4-ec63-42c6-878e-1c16bc9ffcca",
   "metadata": {},
   "outputs": [],
   "source": [
    "import pandas as pd\n",
    "import numpy as np\n",
    "import datetime\n",
    "\n",
    "data = pd.read_csv(\"training_frame.csv\").iloc[:,1:]\n",
    "\n",
    "data[\"vitals_datetime\"] = pd.to_datetime(data[\"vitals_datetime\"])\n",
    "data[\"vitals_datetime\"] = pd.to_datetime(data[\"vitals_datetime\"], format='%Y%m%d')"
   ]
  },
  {
   "cell_type": "code",
   "execution_count": 2,
   "id": "a9310ffe-df57-4a21-ba21-8466aac19ecb",
   "metadata": {},
   "outputs": [],
   "source": [
    "stuff = data.groupby(['patient_id', data[\"vitals_datetime\"].dt.date]).agg({\"heart_rate\":'mean',\n",
    "                                                                          \"respiration_over_impedence\":'mean',\n",
    "                                                                          \"spirometry_oxygen_saturation\":'mean',\n",
    "                                                                          \"pulse\":'mean',\n",
    "                                                                          \"blood_pressure_average\":'mean',\n",
    "                                                                          \"Coded\":'max'})\n",
    "i = 0\n"
   ]
  },
  {
   "cell_type": "code",
   "execution_count": 3,
   "id": "fe9ca125-d084-4790-b025-20b520b00a00",
   "metadata": {},
   "outputs": [
    {
     "data": {
      "text/plain": [
       "1336"
      ]
     },
     "execution_count": 3,
     "metadata": {},
     "output_type": "execute_result"
    }
   ],
   "source": [
    "len(stuff)"
   ]
  },
  {
   "cell_type": "code",
   "execution_count": 5,
   "id": "f0ffe6cd-ff95-4d3b-b443-c45630d2946c",
   "metadata": {},
   "outputs": [
    {
     "data": {
      "text/plain": [
       "0.0"
      ]
     },
     "execution_count": 5,
     "metadata": {},
     "output_type": "execute_result"
    }
   ],
   "source": [
    "stuff.loc[stuff.index[3]].Coded"
   ]
  }
 ],
 "metadata": {
  "kernelspec": {
   "display_name": "Python 3",
   "language": "python",
   "name": "python3"
  },
  "language_info": {
   "codemirror_mode": {
    "name": "ipython",
    "version": 3
   },
   "file_extension": ".py",
   "mimetype": "text/x-python",
   "name": "python",
   "nbconvert_exporter": "python",
   "pygments_lexer": "ipython3",
   "version": "3.9.5"
  }
 },
 "nbformat": 4,
 "nbformat_minor": 5
}
