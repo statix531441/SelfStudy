{
 "cells": [
  {
   "cell_type": "code",
   "execution_count": 1,
   "id": "263d016b-78cf-4ae6-9089-55c4bb9b9b5f",
   "metadata": {},
   "outputs": [],
   "source": [
    "import numpy as np\n",
    "import matplotlib.pyplot as plt\n",
    "import math\n",
    "import pandas as pd\n",
    "import sklearn\n",
    "from sklearn.model_selection import train_test_split\n",
    "from sklearn import datasets\n",
    "np.random.seed = 69"
   ]
  },
  {
   "cell_type": "code",
   "execution_count": 2,
   "id": "de1f77be-1a59-4c48-91d4-7ad0f3605afa",
   "metadata": {},
   "outputs": [],
   "source": [
    "def squish(z):\n",
    "    a = 1/(1+np.exp(-z))\n",
    "    return a\n",
    "\n",
    "def squishprime(z):\n",
    "    fprime = np.multiply(squish(z),(1-squish(z)))\n",
    "    return fprime"
   ]
  },
  {
   "cell_type": "code",
   "execution_count": 3,
   "id": "68e07213-a15c-46f8-94cf-6a4db1453d53",
   "metadata": {},
   "outputs": [],
   "source": [
    "class NeuralNetwork():\n",
    "    #lis contains sizes of each layer\n",
    "    def __init__(self, lis): \n",
    "        \n",
    "        self.n = len(lis) # number of layers in total\n",
    "        self.reset()\n",
    "        self.WML = [[[0]] ] #dummy weight matrix associated with first layer\n",
    "        self.BL = [[[0]] ] #dummy bias matrix/list associated with first layer\n",
    "        self.Jprogress = []\n",
    "        np.random.seed = 34\n",
    "        \n",
    "        #initialize random weight matrices here...\n",
    "        for i in range(len(lis)-1):\n",
    "            #random weight matrix per layer\n",
    "            shape = (lis[i], lis[i+1])\n",
    "            wm = np.random.randn(lis[i], lis[i+1])\n",
    "            self.WML.append(wm)\n",
    "            #random biases per layer\n",
    "            b = np.random.randn(1, lis[i+1])\n",
    "            self.BL.append(b)\n",
    "            \n",
    "    def reset(self):\n",
    "        \n",
    "        self.AL = [] #list of layer activations\n",
    "        self.FprimeL = [[] ] #AL0 does not have z value to find fprime\n",
    "        self.DL = [[[]] ] #AL0 does not have delta values       \n",
    "        self.err =[[]]\n",
    "        self.C =[]\n",
    "        self.J = 0\n",
    "    \n",
    "    def forward(self, X):\n",
    "        \n",
    "        self.reset()\n",
    "        self.AL.append(X)\n",
    "        for i in range(self.n-1):\n",
    "            wm = self.WML[i+1]\n",
    "            b = self.BL[i+1]\n",
    "            z = np.matmul(self.AL[i], wm) + b\n",
    "            a = squish(z)\n",
    "            f = squishprime(z)\n",
    "            self.AL.append(a)\n",
    "            self.FprimeL.append(f)\n",
    "        return self.AL[-1]\n",
    "        \n",
    "    def backward(self, Y):\n",
    "        \n",
    "        for i in range(1, self.n):\n",
    "            #i = 1 represents the last layer L\n",
    "            #then you count backwards\n",
    "            if(i == 1):\n",
    "                E = self.AL[-1] - Y\n",
    "            else:\n",
    "                wm = self.WML[-i + 1]  #weights of l+1 layer\n",
    "                E = np.matmul(self.DL[1], wm.T) #propogated errors\n",
    "            f = self.FprimeL[-i]\n",
    "            d = np.multiply(f, E)\n",
    "            self.DL.insert(1, d)\n",
    "            \n",
    "    def updateWeights(self, alpha=0.2):\n",
    "        \n",
    "        for i in range(1, self.n):\n",
    "            al1 = self.AL[i-1]\n",
    "            dl2 = self.DL[i]\n",
    "            changeInWeights = np.matmul(al1.T, dl2)\n",
    "            changeInBiases = np.matmul(np.ones(len(dl2)).reshape(1,len(dl2)), dl2)\n",
    "            \n",
    "            self.WML[i] = self.WML[i] - alpha*changeInWeights\n",
    "            self.BL[i] = self.BL[i] - alpha*changeInBiases         \n",
    "        \n",
    "    def batchTrain(self, X, Y, alpha):\n",
    "        self.forward(X)\n",
    "        self.backward(Y)\n",
    "        self.updateWeights(alpha)\n",
    "        \n",
    "    def plotProgress(self):\n",
    "        plt.plot(self.Jprogress, 'ro', ms=2)\n",
    "        plt.xlabel('batch')\n",
    "        plt.ylabel('Cost')\n",
    "        plt.title('Cost progress with each batch') \n",
    "\n",
    "    def train(self, X, Y, batchSize=10, epochs=1, alpha=0.2):\n",
    "        \n",
    "        for i in range(0, len(X), batchSize):\n",
    "            if(i+batchSize<len(X)):\n",
    "                Xbatch = X[i:i+batchSize]\n",
    "                Ybatch = Y[i:i+batchSize]\n",
    "            else:\n",
    "                Xbatch = X[i:]\n",
    "                Ybatch = Y[i:]\n",
    "                \n",
    "            for epoch in range(epochs):\n",
    "                self.batchTrain(Xbatch, Ybatch, alpha)\n",
    "                \n",
    "        self.Jprogress.append(self.cost(X, Y))\n",
    "        #self.plotProgress()\n",
    "\n",
    "    def cost(self, X, Y):\n",
    "            err = self.forward(X) - Y\n",
    "            err2 = err**2\n",
    "            C = [sum(i) for i in err2/2] # C[t] gives cost of a sample\n",
    "            J = sum(C) #total cost after running a batch\n",
    "            return J\n",
    "\n",
    "    def classify(self, X):\n",
    "        return (self.forward(X)>0.5).astype('int32')"
   ]
  },
  {
   "cell_type": "code",
   "execution_count": 4,
   "id": "14206234-86a1-4e08-82cb-45023ac531dc",
   "metadata": {},
   "outputs": [
    {
     "data": {
      "text/plain": [
       "array([[187,   2,   8,   1],\n",
       "       [171,   7,   4,   0],\n",
       "       [160,   3,   6,   0],\n",
       "       ...,\n",
       "       [168,   4,   2,   0],\n",
       "       [179,   1,   2,   0],\n",
       "       [176,   6,  10,   1]])"
      ]
     },
     "execution_count": 4,
     "metadata": {},
     "output_type": "execute_result"
    }
   ],
   "source": [
    "#making data\n",
    "N = 1000\n",
    "shape = (N,1)\n",
    "height = np.random.randint(160,201,shape)\n",
    "fit = np.random.randint(1,11,shape)\n",
    "funny = np.random.randint(1,11,shape)\n",
    "\n",
    "y = (height+2*fit+4*funny-210>=0).astype('int32')\n",
    "data = np.hstack((height,fit,funny,y))\n",
    "data\n",
    "\n",
    "X_train = data[:,1:len(data)]\n",
    "y_train = data[:,-1:]\n",
    "data"
   ]
  },
  {
   "cell_type": "code",
   "execution_count": 5,
   "id": "56bd86ca-87de-4693-9802-78e86d034f05",
   "metadata": {},
   "outputs": [],
   "source": [
    "net = NeuralNetwork([X_train.shape[1],y_train.shape[1]])"
   ]
  },
  {
   "cell_type": "code",
   "execution_count": 6,
   "id": "bce0a7dd-4f64-4989-9ece-ddd8739885a3",
   "metadata": {},
   "outputs": [
    {
     "data": {
      "image/png": "[encoded data removed]",
      "text/plain": [
       "<Figure size 432x288 with 1 Axes>"
      ]
     },
     "metadata": {
      "needs_background": "light"
     },
     "output_type": "display_data"
    }
   ],
   "source": [
    "for i in range(100):\n",
    "    net.train(X_train, y_train, 10, 10, 0.01)\n",
    "net.plotProgress()"
   ]
  },
  {
   "cell_type": "code",
   "execution_count": 7,
   "id": "2104e577-2da2-426c-9f6f-6d04fa3e6ad8",
   "metadata": {},
   "outputs": [
    {
     "data": {
      "text/plain": [
       "array([[187,   2,   8,   1],\n",
       "       [171,   7,   4,   0],\n",
       "       [160,   3,   6,   0],\n",
       "       [188,   2,   6,   1],\n",
       "       [170,   3,   5,   0],\n",
       "       [194,   8,   3,   1],\n",
       "       [190,   9,   1,   1],\n",
       "       [179,   4,   7,   1],\n",
       "       [165,  10,   4,   0],\n",
       "       [193,   4,   5,   1]])"
      ]
     },
     "execution_count": 7,
     "metadata": {},
     "output_type": "execute_result"
    }
   ],
   "source": [
    "data[:10]"
   ]
  },
  {
   "cell_type": "code",
   "execution_count": 8,
   "id": "9ea6945d-e727-45c9-a5cf-cd06970c881d",
   "metadata": {},
   "outputs": [
    {
     "data": {
      "text/plain": [
       "array([[1],\n",
       "       [0],\n",
       "       [0],\n",
       "       [1],\n",
       "       [0],\n",
       "       [1],\n",
       "       [1],\n",
       "       [1],\n",
       "       [0],\n",
       "       [1]])"
      ]
     },
     "execution_count": 8,
     "metadata": {},
     "output_type": "execute_result"
    }
   ],
   "source": [
    "net.classify(X_train)[:10]"
   ]
  },
  {
   "cell_type": "code",
   "execution_count": 9,
   "id": "c986181f-3bd2-4fde-96a7-b5b764d7a090",
   "metadata": {},
   "outputs": [
    {
     "data": {
      "text/plain": [
       "array([[-0.02201227],\n",
       "       [ 0.04017434],\n",
       "       [ 8.12489647]])"
      ]
     },
     "execution_count": 9,
     "metadata": {},
     "output_type": "execute_result"
    }
   ],
   "source": [
    "net.WML[1]"
   ]
  },
  {
   "cell_type": "code",
   "execution_count": 10,
   "id": "355cf4f1-bcb0-4922-8408-2c8976a6e034",
   "metadata": {},
   "outputs": [
    {
     "data": {
      "text/plain": [
       "[[[0]], array([[-3.97574295]])]"
      ]
     },
     "execution_count": 10,
     "metadata": {},
     "output_type": "execute_result"
    }
   ],
   "source": [
    "net.BL"
   ]
  }
 ],
 "metadata": {
  "kernelspec": {
   "display_name": "Python 3",
   "language": "python",
   "name": "python3"
  },
  "language_info": {
   "codemirror_mode": {
    "name": "ipython",
    "version": 3
   },
   "file_extension": ".py",
   "mimetype": "text/x-python",
   "name": "python",
   "nbconvert_exporter": "python",
   "pygments_lexer": "ipython3",
   "version": "3.9.5"
  }
 },
 "nbformat": 4,
 "nbformat_minor": 5
}
