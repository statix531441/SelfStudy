{
 "cells": [
  {
   "cell_type": "code",
   "execution_count": 1,
   "id": "17b74826-8541-4cc7-b2d1-c5963db531df",
   "metadata": {},
   "outputs": [],
   "source": [
    "import pandas as pd\n",
    "import numpy as np\n",
    "import seaborn as sns\n",
    "import matplotlib.pyplot as plt\n",
    "import warnings\n",
    "warnings.filterwarnings('ignore')"
   ]
  },
  {
   "cell_type": "code",
   "execution_count": 2,
   "id": "5360db60-fda7-422c-b129-0523637b8036",
   "metadata": {},
   "outputs": [],
   "source": [
    "#Importing classifiers\n",
    "from sklearn.linear_model import RidgeClassifier\n",
    "from sklearn.naive_bayes import GaussianNB\n",
    "from sklearn.svm import SVC"
   ]
  },
  {
   "cell_type": "code",
   "execution_count": 3,
   "id": "cdad930b-e0ca-4db6-919f-7386ba1b7c70",
   "metadata": {},
   "outputs": [],
   "source": [
    "#Importing benchmark tools\n",
    "from sklearn.metrics import f1_score\n",
    "from sklearn.metrics import classification_report,confusion_matrix\n",
    "from sklearn.metrics import precision_score\n",
    "from sklearn.metrics import recall_score\n",
    "from sklearn.metrics import accuracy_score"
   ]
  },
  {
   "cell_type": "code",
   "execution_count": 4,
   "id": "aa5881db-94d8-4ba5-9821-9369d552bc12",
   "metadata": {},
   "outputs": [
    {
     "data": {
      "text/html": [
       "<div>\n",
       "<style scoped>\n",
       "    .dataframe tbody tr th:only-of-type {\n",
       "        vertical-align: middle;\n",
       "    }\n",
       "\n",
       "    .dataframe tbody tr th {\n",
       "        vertical-align: top;\n",
       "    }\n",
       "\n",
       "    .dataframe thead th {\n",
       "        text-align: right;\n",
       "    }\n",
       "</style>\n",
       "<table border=\"1\" class=\"dataframe\">\n",
       "  <thead>\n",
       "    <tr style=\"text-align: right;\">\n",
       "      <th></th>\n",
       "      <th>heart_rate</th>\n",
       "      <th>respiration_over_impedence</th>\n",
       "      <th>spirometry_oxygen_saturation</th>\n",
       "      <th>pulse</th>\n",
       "      <th>blood_pressure_systolic</th>\n",
       "      <th>blood_pressure_diastolic</th>\n",
       "      <th>blood_pressure_average</th>\n",
       "      <th>Coded</th>\n",
       "    </tr>\n",
       "  </thead>\n",
       "  <tbody>\n",
       "    <tr>\n",
       "      <th>0</th>\n",
       "      <td>111.0</td>\n",
       "      <td>44.0</td>\n",
       "      <td>100.0</td>\n",
       "      <td>110.0</td>\n",
       "      <td>111.0</td>\n",
       "      <td>74.0</td>\n",
       "      <td>79.0</td>\n",
       "      <td>0.0</td>\n",
       "    </tr>\n",
       "    <tr>\n",
       "      <th>1</th>\n",
       "      <td>85.0</td>\n",
       "      <td>12.0</td>\n",
       "      <td>97.0</td>\n",
       "      <td>92.0</td>\n",
       "      <td>95.0</td>\n",
       "      <td>60.0</td>\n",
       "      <td>77.0</td>\n",
       "      <td>0.0</td>\n",
       "    </tr>\n",
       "    <tr>\n",
       "      <th>2</th>\n",
       "      <td>92.0</td>\n",
       "      <td>6.0</td>\n",
       "      <td>99.0</td>\n",
       "      <td>92.0</td>\n",
       "      <td>113.0</td>\n",
       "      <td>71.0</td>\n",
       "      <td>93.0</td>\n",
       "      <td>0.0</td>\n",
       "    </tr>\n",
       "    <tr>\n",
       "      <th>3</th>\n",
       "      <td>64.0</td>\n",
       "      <td>22.0</td>\n",
       "      <td>96.0</td>\n",
       "      <td>65.0</td>\n",
       "      <td>128.0</td>\n",
       "      <td>80.0</td>\n",
       "      <td>88.0</td>\n",
       "      <td>0.0</td>\n",
       "    </tr>\n",
       "    <tr>\n",
       "      <th>4</th>\n",
       "      <td>111.0</td>\n",
       "      <td>22.0</td>\n",
       "      <td>96.0</td>\n",
       "      <td>102.0</td>\n",
       "      <td>100.0</td>\n",
       "      <td>64.0</td>\n",
       "      <td>72.0</td>\n",
       "      <td>0.0</td>\n",
       "    </tr>\n",
       "    <tr>\n",
       "      <th>...</th>\n",
       "      <td>...</td>\n",
       "      <td>...</td>\n",
       "      <td>...</td>\n",
       "      <td>...</td>\n",
       "      <td>...</td>\n",
       "      <td>...</td>\n",
       "      <td>...</td>\n",
       "      <td>...</td>\n",
       "    </tr>\n",
       "    <tr>\n",
       "      <th>99995</th>\n",
       "      <td>152.0</td>\n",
       "      <td>46.0</td>\n",
       "      <td>96.0</td>\n",
       "      <td>115.0</td>\n",
       "      <td>122.0</td>\n",
       "      <td>80.0</td>\n",
       "      <td>88.0</td>\n",
       "      <td>1.0</td>\n",
       "    </tr>\n",
       "    <tr>\n",
       "      <th>99996</th>\n",
       "      <td>152.0</td>\n",
       "      <td>46.0</td>\n",
       "      <td>96.0</td>\n",
       "      <td>115.0</td>\n",
       "      <td>122.0</td>\n",
       "      <td>80.0</td>\n",
       "      <td>88.0</td>\n",
       "      <td>1.0</td>\n",
       "    </tr>\n",
       "    <tr>\n",
       "      <th>99997</th>\n",
       "      <td>128.0</td>\n",
       "      <td>22.0</td>\n",
       "      <td>100.0</td>\n",
       "      <td>126.0</td>\n",
       "      <td>185.0</td>\n",
       "      <td>157.0</td>\n",
       "      <td>167.0</td>\n",
       "      <td>1.0</td>\n",
       "    </tr>\n",
       "    <tr>\n",
       "      <th>99998</th>\n",
       "      <td>128.0</td>\n",
       "      <td>22.0</td>\n",
       "      <td>100.0</td>\n",
       "      <td>126.0</td>\n",
       "      <td>185.0</td>\n",
       "      <td>157.0</td>\n",
       "      <td>167.0</td>\n",
       "      <td>1.0</td>\n",
       "    </tr>\n",
       "    <tr>\n",
       "      <th>99999</th>\n",
       "      <td>73.0</td>\n",
       "      <td>38.0</td>\n",
       "      <td>94.0</td>\n",
       "      <td>69.0</td>\n",
       "      <td>149.0</td>\n",
       "      <td>88.0</td>\n",
       "      <td>112.0</td>\n",
       "      <td>1.0</td>\n",
       "    </tr>\n",
       "  </tbody>\n",
       "</table>\n",
       "<p>100000 rows × 8 columns</p>\n",
       "</div>"
      ],
      "text/plain": [
       "       heart_rate  respiration_over_impedence  spirometry_oxygen_saturation  \\\n",
       "0           111.0                        44.0                         100.0   \n",
       "1            85.0                        12.0                          97.0   \n",
       "2            92.0                         6.0                          99.0   \n",
       "3            64.0                        22.0                          96.0   \n",
       "4           111.0                        22.0                          96.0   \n",
       "...           ...                         ...                           ...   \n",
       "99995       152.0                        46.0                          96.0   \n",
       "99996       152.0                        46.0                          96.0   \n",
       "99997       128.0                        22.0                         100.0   \n",
       "99998       128.0                        22.0                         100.0   \n",
       "99999        73.0                        38.0                          94.0   \n",
       "\n",
       "       pulse  blood_pressure_systolic  blood_pressure_diastolic  \\\n",
       "0      110.0                    111.0                      74.0   \n",
       "1       92.0                     95.0                      60.0   \n",
       "2       92.0                    113.0                      71.0   \n",
       "3       65.0                    128.0                      80.0   \n",
       "4      102.0                    100.0                      64.0   \n",
       "...      ...                      ...                       ...   \n",
       "99995  115.0                    122.0                      80.0   \n",
       "99996  115.0                    122.0                      80.0   \n",
       "99997  126.0                    185.0                     157.0   \n",
       "99998  126.0                    185.0                     157.0   \n",
       "99999   69.0                    149.0                      88.0   \n",
       "\n",
       "       blood_pressure_average  Coded  \n",
       "0                        79.0    0.0  \n",
       "1                        77.0    0.0  \n",
       "2                        93.0    0.0  \n",
       "3                        88.0    0.0  \n",
       "4                        72.0    0.0  \n",
       "...                       ...    ...  \n",
       "99995                    88.0    1.0  \n",
       "99996                    88.0    1.0  \n",
       "99997                   167.0    1.0  \n",
       "99998                   167.0    1.0  \n",
       "99999                   112.0    1.0  \n",
       "\n",
       "[100000 rows x 8 columns]"
      ]
     },
     "execution_count": 4,
     "metadata": {},
     "output_type": "execute_result"
    }
   ],
   "source": [
    "data = pd.read_csv(\"training_frame.csv\").iloc[:,2:]\n",
    "data = data.drop(\"patient_id\",1)\n",
    "data = data.drop(\"machine_id\",1)\n",
    "data"
   ]
  },
  {
   "cell_type": "markdown",
   "id": "dd318970-01ac-4cba-abe9-b5f5b83b6f7a",
   "metadata": {},
   "source": [
    "### Normalize data"
   ]
  },
  {
   "cell_type": "code",
   "execution_count": 5,
   "id": "04c4fb90-fa5c-4227-9a22-411c1d1af86b",
   "metadata": {},
   "outputs": [],
   "source": [
    "# data = (data-data.min())/(data.max()-data.min())\n",
    "# data"
   ]
  },
  {
   "cell_type": "markdown",
   "id": "347684e1-3e86-4d0c-8886-3e86cb1c5d16",
   "metadata": {},
   "source": [
    "## Feature selection using correlation matrix"
   ]
  },
  {
   "cell_type": "code",
   "execution_count": 6,
   "id": "7a738a32-bd94-45a9-a600-df57a39e5fcc",
   "metadata": {},
   "outputs": [
    {
     "data": {
      "image/png": "[encoded data removed]",
      "text/plain": [
       "<Figure size 720x720 with 2 Axes>"
      ]
     },
     "metadata": {
      "needs_background": "light"
     },
     "output_type": "display_data"
    }
   ],
   "source": [
    "#get correlations of each features in dataset\n",
    "corrmat = data.corr()\n",
    "top_corr_features = corrmat.index\n",
    "plt.figure(figsize=(10,10))\n",
    "#plot heat map\n",
    "g=sns.heatmap(data[top_corr_features].corr(),annot=True,cmap=\"RdYlGn\")"
   ]
  },
  {
   "cell_type": "markdown",
   "id": "f0f3a4b2-3464-4184-8337-97708d0c3ecb",
   "metadata": {},
   "source": [
    "bp systolic, diastolic and average are correlated up to 80%.\n",
    "This means we can choose one of them.\n",
    "Heart rate and Pulse are correlated up to 68% but as it doesn't meet usual threshold of 80% I have decided to keep them as is."
   ]
  },
  {
   "cell_type": "markdown",
   "id": "ea79bb80-702f-4037-959a-3cc5f0e5d391",
   "metadata": {},
   "source": [
    "## Making train data and loading test data"
   ]
  },
  {
   "cell_type": "code",
   "execution_count": 7,
   "id": "e68250fe-1378-4965-ab97-2a0060463ab4",
   "metadata": {},
   "outputs": [
    {
     "data": {
      "text/html": [
       "<div>\n",
       "<style scoped>\n",
       "    .dataframe tbody tr th:only-of-type {\n",
       "        vertical-align: middle;\n",
       "    }\n",
       "\n",
       "    .dataframe tbody tr th {\n",
       "        vertical-align: top;\n",
       "    }\n",
       "\n",
       "    .dataframe thead th {\n",
       "        text-align: right;\n",
       "    }\n",
       "</style>\n",
       "<table border=\"1\" class=\"dataframe\">\n",
       "  <thead>\n",
       "    <tr style=\"text-align: right;\">\n",
       "      <th></th>\n",
       "      <th>heart_rate</th>\n",
       "      <th>respiration_over_impedence</th>\n",
       "      <th>spirometry_oxygen_saturation</th>\n",
       "      <th>pulse</th>\n",
       "      <th>blood_pressure_average</th>\n",
       "    </tr>\n",
       "  </thead>\n",
       "  <tbody>\n",
       "    <tr>\n",
       "      <th>0</th>\n",
       "      <td>111.0</td>\n",
       "      <td>44.0</td>\n",
       "      <td>100.0</td>\n",
       "      <td>110.0</td>\n",
       "      <td>79.0</td>\n",
       "    </tr>\n",
       "    <tr>\n",
       "      <th>1</th>\n",
       "      <td>85.0</td>\n",
       "      <td>12.0</td>\n",
       "      <td>97.0</td>\n",
       "      <td>92.0</td>\n",
       "      <td>77.0</td>\n",
       "    </tr>\n",
       "    <tr>\n",
       "      <th>2</th>\n",
       "      <td>92.0</td>\n",
       "      <td>6.0</td>\n",
       "      <td>99.0</td>\n",
       "      <td>92.0</td>\n",
       "      <td>93.0</td>\n",
       "    </tr>\n",
       "    <tr>\n",
       "      <th>3</th>\n",
       "      <td>64.0</td>\n",
       "      <td>22.0</td>\n",
       "      <td>96.0</td>\n",
       "      <td>65.0</td>\n",
       "      <td>88.0</td>\n",
       "    </tr>\n",
       "    <tr>\n",
       "      <th>4</th>\n",
       "      <td>111.0</td>\n",
       "      <td>22.0</td>\n",
       "      <td>96.0</td>\n",
       "      <td>102.0</td>\n",
       "      <td>72.0</td>\n",
       "    </tr>\n",
       "    <tr>\n",
       "      <th>...</th>\n",
       "      <td>...</td>\n",
       "      <td>...</td>\n",
       "      <td>...</td>\n",
       "      <td>...</td>\n",
       "      <td>...</td>\n",
       "    </tr>\n",
       "    <tr>\n",
       "      <th>99995</th>\n",
       "      <td>152.0</td>\n",
       "      <td>46.0</td>\n",
       "      <td>96.0</td>\n",
       "      <td>115.0</td>\n",
       "      <td>88.0</td>\n",
       "    </tr>\n",
       "    <tr>\n",
       "      <th>99996</th>\n",
       "      <td>152.0</td>\n",
       "      <td>46.0</td>\n",
       "      <td>96.0</td>\n",
       "      <td>115.0</td>\n",
       "      <td>88.0</td>\n",
       "    </tr>\n",
       "    <tr>\n",
       "      <th>99997</th>\n",
       "      <td>128.0</td>\n",
       "      <td>22.0</td>\n",
       "      <td>100.0</td>\n",
       "      <td>126.0</td>\n",
       "      <td>167.0</td>\n",
       "    </tr>\n",
       "    <tr>\n",
       "      <th>99998</th>\n",
       "      <td>128.0</td>\n",
       "      <td>22.0</td>\n",
       "      <td>100.0</td>\n",
       "      <td>126.0</td>\n",
       "      <td>167.0</td>\n",
       "    </tr>\n",
       "    <tr>\n",
       "      <th>99999</th>\n",
       "      <td>73.0</td>\n",
       "      <td>38.0</td>\n",
       "      <td>94.0</td>\n",
       "      <td>69.0</td>\n",
       "      <td>112.0</td>\n",
       "    </tr>\n",
       "  </tbody>\n",
       "</table>\n",
       "<p>100000 rows × 5 columns</p>\n",
       "</div>"
      ],
      "text/plain": [
       "       heart_rate  respiration_over_impedence  spirometry_oxygen_saturation  \\\n",
       "0           111.0                        44.0                         100.0   \n",
       "1            85.0                        12.0                          97.0   \n",
       "2            92.0                         6.0                          99.0   \n",
       "3            64.0                        22.0                          96.0   \n",
       "4           111.0                        22.0                          96.0   \n",
       "...           ...                         ...                           ...   \n",
       "99995       152.0                        46.0                          96.0   \n",
       "99996       152.0                        46.0                          96.0   \n",
       "99997       128.0                        22.0                         100.0   \n",
       "99998       128.0                        22.0                         100.0   \n",
       "99999        73.0                        38.0                          94.0   \n",
       "\n",
       "       pulse  blood_pressure_average  \n",
       "0      110.0                    79.0  \n",
       "1       92.0                    77.0  \n",
       "2       92.0                    93.0  \n",
       "3       65.0                    88.0  \n",
       "4      102.0                    72.0  \n",
       "...      ...                     ...  \n",
       "99995  115.0                    88.0  \n",
       "99996  115.0                    88.0  \n",
       "99997  126.0                   167.0  \n",
       "99998  126.0                   167.0  \n",
       "99999   69.0                   112.0  \n",
       "\n",
       "[100000 rows x 5 columns]"
      ]
     },
     "execution_count": 7,
     "metadata": {},
     "output_type": "execute_result"
    }
   ],
   "source": [
    "X_train = data.drop(['blood_pressure_systolic', \"blood_pressure_diastolic\", \"Coded\"], axis=1)\n",
    "y_train = data.iloc[:,-1]\n",
    "X_train"
   ]
  },
  {
   "cell_type": "markdown",
   "id": "711e4f84-7dd0-40ca-968e-194d5e63d8c7",
   "metadata": {},
   "source": [
    "### Finding Aggregate of test data by patient_id and day"
   ]
  },
  {
   "cell_type": "code",
   "execution_count": 8,
   "id": "9f4473b1-0357-46ce-92db-5b0aa530d5ef",
   "metadata": {},
   "outputs": [],
   "source": [
    "test_data = pd.read_csv(\"test_frame.csv\").iloc[:, 1:]\n",
    "test_data[\"vitals_datetime\"] = pd.to_datetime(test_data[\"vitals_datetime\"])\n",
    "data_agg = test_data.groupby([\"patient_id\", test_data[\"vitals_datetime\"].dt.date]).agg({\"heart_rate\":'mean',\n",
    "                                                                          \"respiration_over_impedence\":'mean',\n",
    "                                                                          \"spirometry_oxygen_saturation\":'mean',\n",
    "                                                                          \"pulse\":'mean',\n",
    "                                                                          \"blood_pressure_average\":'mean',\n",
    "                                                                          \"Coded\":'max'})"
   ]
  },
  {
   "cell_type": "markdown",
   "id": "7d9c0210-cd19-4a6b-946c-e8bd9af63dcb",
   "metadata": {},
   "source": [
    "### Setting all events with dates that has at least 1 codeblue as high risk events"
   ]
  },
  {
   "cell_type": "code",
   "execution_count": 9,
   "id": "f52ebb11-b0bc-4f9e-b517-645220f7e6da",
   "metadata": {},
   "outputs": [],
   "source": [
    "high_risk = [0]*len(data_agg)\n",
    "\n",
    "#find high risk dates\n",
    "high_risk_dates = []\n",
    "for i in range(len(data_agg)):\n",
    "    if(data_agg.loc[data_agg.index[i]].Coded == 1):\n",
    "        if data_agg.index[i][1] not in high_risk_dates:\n",
    "            high_risk_dates.append(data_agg.index[i][1])\n",
    "\n",
    "#set high_risk corresponding to all records in data_agg\n",
    "for i in range(len(data_agg)):\n",
    "    if(data_agg.index[i][1] in high_risk_dates):\n",
    "        high_risk[i] = 1\n",
    "    \n",
    "\n",
    "data_agg['high_risk'] = high_risk\n",
    "\n",
    "X_test = data_agg.reset_index().iloc[:,2:-2]\n",
    "y_test = data_agg.reset_index().iloc[:,-2]"
   ]
  },
  {
   "cell_type": "markdown",
   "id": "9a13fe90-c7f2-4cc2-9d8b-b944a577f7ee",
   "metadata": {},
   "source": [
    "## Naive Bayes Classifier"
   ]
  },
  {
   "cell_type": "code",
   "execution_count": 10,
   "id": "e0bbfe22-f183-4d05-bff9-16ef977c15c2",
   "metadata": {},
   "outputs": [],
   "source": [
    "from sklearn.naive_bayes import GaussianNB\n",
    "\n",
    "nb = GaussianNB()\n",
    "nb.fit(X_train, y_train)\n",
    "y_pred = nb.predict(X_test)"
   ]
  },
  {
   "cell_type": "code",
   "execution_count": 11,
   "id": "65b26d4c-c9dc-41d3-8ae4-b3b52f0d0ce9",
   "metadata": {},
   "outputs": [
    {
     "name": "stdout",
     "output_type": "stream",
     "text": [
      "\n",
      "Classification report : \n",
      "                precision    recall  f1-score   support\n",
      "\n",
      "         0.0       0.93      1.00      0.96       326\n",
      "         1.0       0.00      0.00      0.00        25\n",
      "\n",
      "    accuracy                           0.93       351\n",
      "   macro avg       0.46      0.50      0.48       351\n",
      "weighted avg       0.86      0.93      0.89       351\n",
      "\n",
      "\n",
      "Confusion matrix : \n",
      " [[326   0]\n",
      " [ 25   0]]\n"
     ]
    }
   ],
   "source": [
    "#Benchmarking\n",
    "accuracy_nb = accuracy_score(y_test, y_pred)\n",
    "\n",
    "print(\"\\nClassification report : \\n \", classification_report(y_test,y_pred))\n",
    "print(\"\\nConfusion matrix : \\n\", confusion_matrix(y_test,y_pred))"
   ]
  },
  {
   "cell_type": "markdown",
   "id": "84221732-a684-4e8b-aa0d-2921a9aa5ec5",
   "metadata": {},
   "source": [
    "## Ridge Classifier"
   ]
  },
  {
   "cell_type": "code",
   "execution_count": 12,
   "id": "987f1552-8e5a-4325-83ab-a703aaefcd2f",
   "metadata": {},
   "outputs": [],
   "source": [
    "#Train and predict\n",
    "regr = RidgeClassifier(random_state=42)\n",
    "regr.fit(X_train, y_train)\n",
    "y_pred = regr.predict(X_test)"
   ]
  },
  {
   "cell_type": "code",
   "execution_count": 13,
   "id": "5d674603-0e77-43c2-843a-3d57875f368e",
   "metadata": {},
   "outputs": [
    {
     "name": "stdout",
     "output_type": "stream",
     "text": [
      "\n",
      "Classification report : \n",
      "                precision    recall  f1-score   support\n",
      "\n",
      "         0.0       0.93      1.00      0.96       326\n",
      "         1.0       0.00      0.00      0.00        25\n",
      "\n",
      "    accuracy                           0.93       351\n",
      "   macro avg       0.46      0.50      0.48       351\n",
      "weighted avg       0.86      0.93      0.89       351\n",
      "\n",
      "\n",
      "Confusion matrix : \n",
      " [[326   0]\n",
      " [ 25   0]]\n"
     ]
    }
   ],
   "source": [
    "#Benchmarking\n",
    "accuracy_regr = accuracy_score(y_test, y_pred)\n",
    "\n",
    "print(\"\\nClassification report : \\n \", classification_report(y_test,y_pred))\n",
    "print(\"\\nConfusion matrix : \\n\", confusion_matrix(y_test,y_pred))"
   ]
  },
  {
   "cell_type": "markdown",
   "id": "0c6721c0-74c9-4725-b9e9-edf28271d33f",
   "metadata": {},
   "source": [
    "## Random Forest Classifier"
   ]
  },
  {
   "cell_type": "code",
   "execution_count": 14,
   "id": "a18d06c3-b784-422d-b990-d0b92fd30375",
   "metadata": {},
   "outputs": [],
   "source": [
    "from sklearn.ensemble import RandomForestClassifier\n",
    "clf=RandomForestClassifier(max_depth=10, n_estimators=100, max_features=2)\n",
    "\n",
    "clf.fit(X_train, y_train)\n",
    "\n",
    "y_pred = clf.predict(X_test)"
   ]
  },
  {
   "cell_type": "code",
   "execution_count": 15,
   "id": "5a17edb6-b801-4a47-a28f-0163b3653c20",
   "metadata": {},
   "outputs": [
    {
     "name": "stdout",
     "output_type": "stream",
     "text": [
      "\n",
      "Classification report : \n",
      "                precision    recall  f1-score   support\n",
      "\n",
      "         0.0       0.93      0.95      0.94       326\n",
      "         1.0       0.00      0.00      0.00        25\n",
      "\n",
      "    accuracy                           0.89       351\n",
      "   macro avg       0.46      0.48      0.47       351\n",
      "weighted avg       0.86      0.89      0.87       351\n",
      "\n",
      "\n",
      "Confusion matrix : \n",
      " [[311  15]\n",
      " [ 25   0]]\n"
     ]
    }
   ],
   "source": [
    "#Benchmarking\n",
    "accuracy_clf = accuracy_score(y_test, y_pred)\n",
    "\n",
    "print(\"\\nClassification report : \\n \", classification_report(y_test,y_pred))\n",
    "print(\"\\nConfusion matrix : \\n\", confusion_matrix(y_test,y_pred))"
   ]
  },
  {
   "cell_type": "markdown",
   "id": "69007839-b1a5-4937-91cf-562eab511a30",
   "metadata": {},
   "source": [
    "## Comparing results of different classification algorithms "
   ]
  },
  {
   "cell_type": "code",
   "execution_count": 16,
   "id": "593a818f-0fae-47a6-9fd1-87bf34cbffff",
   "metadata": {},
   "outputs": [],
   "source": [
    "Algorithms = ['Naive Bayes', 'Ridge', 'Random Forest'] #x-axis of bar graphs\n",
    "c = ['Pink', 'Orange', 'Cyan'] #color scheme"
   ]
  },
  {
   "cell_type": "markdown",
   "id": "e1b27cb6-21d9-43e8-b055-4d68635052f7",
   "metadata": {},
   "source": [
    "### Accuracy Comparison"
   ]
  },
  {
   "cell_type": "code",
   "execution_count": 17,
   "id": "35ae662f-2ee1-40c5-8134-a05f4c86ca12",
   "metadata": {},
   "outputs": [
    {
     "data": {
      "image/png": "[encoded data removed]",
      "text/plain": [
       "<Figure size 432x288 with 1 Axes>"
      ]
     },
     "metadata": {
      "needs_background": "light"
     },
     "output_type": "display_data"
    },
    {
     "name": "stdout",
     "output_type": "stream",
     "text": [
      "Accuracy:  [0.9287749287749287, 0.9287749287749287, 0.886039886039886]\n"
     ]
    }
   ],
   "source": [
    "score = [accuracy_nb, accuracy_regr, accuracy_clf] #y-axis\n",
    "\n",
    "plt.bar(Algorithms, score, color=c)\n",
    "plt.title(\"Accuracy\")\n",
    "plt.ylabel('Score')\n",
    "plt.show()\n",
    "print(\"Accuracy: \", score)"
   ]
  }
 ],
 "metadata": {
  "kernelspec": {
   "display_name": "Python 3",
   "language": "python",
   "name": "python3"
  },
  "language_info": {
   "codemirror_mode": {
    "name": "ipython",
    "version": 3
   },
   "file_extension": ".py",
   "mimetype": "text/x-python",
   "name": "python",
   "nbconvert_exporter": "python",
   "pygments_lexer": "ipython3",
   "version": "3.9.5"
  }
 },
 "nbformat": 4,
 "nbformat_minor": 5
}
